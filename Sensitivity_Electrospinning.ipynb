{
 "cells": [
  {
   "cell_type": "markdown",
   "metadata": {},
   "source": [
    "# Sensitivity Analysis on \"Fiber Diameter in Electrospinning\" derivated approximation"
   ]
  },
  {
   "cell_type": "markdown",
   "metadata": {},
   "source": [
    "* Here we try to study the effect of solution density, viscosity, ratio of Q/I and evaporation rate k in order to determine the overall effect of this factors in the terminal radius of the fiber. Then temperature effects and activation energy effects are considered as well.  \n",
    "    * Data of Q/I was not listed in any of the around 10 papers used. We had to play with the sliders to determine       this ratio and give a value in the same order of magnitude as the expected radius.\n",
    "    * Solution density was calculated using the densities of PAN and DMF (SOLVENT) \n",
    "    * The evaporation rate k was another value not listed in the article with the data, we had to approximate it \n",
    "      using another paper found, to try and ballpark the ranges to use. \n",
    "    * Viscosity data was listed as a source in the article.\n",
    "    * Neccesary unit conversions where done either with a calculator or in this jupyter notebook\n",
    "    \n",
    "    \n",
    "\n"
   ]
  },
  {
   "cell_type": "code",
   "execution_count": 36,
   "metadata": {},
   "outputs": [],
   "source": [
    "# Making the necessary imports to be able to do a sensitivity analysis on two equations.\n",
    "# Sensitivity analysis was performed using the battery in class example as a guideline. \n",
    "import numpy as np\n",
    "from ipywidgets import widgets, interact\n",
    "from IPython.display import display\n",
    "%matplotlib inline\n",
    "import seaborn as sbn\n",
    "import matplotlib.pyplot as plt\n",
    "import numpy as np\n",
    "from IPython.core.pylabtools import figsize\n",
    "figsize(12, 10)\n",
    "sbn.set_context(\"talk\", font_scale=1)\n"
   ]
  },
  {
   "cell_type": "code",
   "execution_count": 37,
   "metadata": {},
   "outputs": [],
   "source": [
    "\n",
    "pan_w = np.array([5,5.5,6,6.5,7,8,10.5,12])\n",
    "dmf_w = np.array([95,94.5,94,93.5,93,92,89.5,88])\n",
    "pan_density = np.array([1184,1184,1184,1184,1184,1184,1184,1184])\n",
    "dmf_density= np.array([944,944,944,944,944,944,944,944])\n"
   ]
  },
  {
   "cell_type": "markdown",
   "metadata": {},
   "source": [
    "$$⍴_t = \\frac{(PAN_w\\times⍴_p) + (DMF_w\\times⍴_s)}{100}$$\n",
    "\n",
    "```\n",
    "⍴_t = density of the solution (kg/m^3)\n",
    "Pan_w = Found as  1184 kg/m^3. # weight percent of Polyacronytrile (PAN)\n",
    "⍴_p = .# Density of Polyacronytrile (PAN)\n",
    "DMF_w = Variable from data.  # weight percent of Polyacronytrile (PAN)\n",
    "⍴_s = Found as 944 kg/m^3. # Density of the solvent DMF\n",
    "```\n",
    "Values for the density of PAN and DMF where found from:\n",
    "```\n",
    "    https://www.sigmaaldrich.com/catalog/product/sial/227056?lang=en&region=US.\n",
    "    https://www.sigmaaldrich.com/catalog/product/aldrich/181315?lang=en&region=US\n",
    "\n",
    "```\n",
    "\n",
    "Equations syntax (latex) found in examples from class and also:\n",
    "\n",
    "```\n",
    "   https://www.authorea.com/users/77723/articles/110898-how-to-write-mathematical-equations-expressions-and- symbols-with-latex-a-cheatsheet\n",
    "\n",
    "```"
   ]
  },
  {
   "cell_type": "code",
   "execution_count": 38,
   "metadata": {},
   "outputs": [],
   "source": [
    "# Computing the solution density of a mixture of PAN and DMF\n",
    "def SolutionDensity(pan_w,\n",
    "                    dmf_w,\n",
    "                    pan_density,\n",
    "                    dmf_density):\n",
    "    '''Computes the solution density of the mixture of PAN and DMF based on their individual densities'''\n",
    "                                           \n",
    "                         \n",
    "    density = ((pan_w * pan_density) + (dmf_w * dmf_density))/100.\n",
    "    \n",
    "    return density\n",
    "\n",
    "    "
   ]
  },
  {
   "cell_type": "code",
   "execution_count": 39,
   "metadata": {},
   "outputs": [
    {
     "data": {
      "text/plain": [
       "array([956. , 957.2, 958.4, 959.6, 960.8, 963.2, 969.2, 972.8])"
      ]
     },
     "execution_count": 39,
     "metadata": {},
     "output_type": "execute_result"
    }
   ],
   "source": [
    "SolutionDensity(pan_w,dmf_w,pan_density,dmf_density)"
   ]
  },
  {
   "cell_type": "markdown",
   "metadata": {},
   "source": [
    "$$Radius = (k\\times Density\\times Viscosity)^\\frac{1}{3}\\times(\\frac{Q}{I})^\\frac{2}{3}$$ \n",
    "\n",
    "```\n",
    "Radius = Radius of the fiber (nm)\n",
    "k = evaporation rate (kg/s*m^2*)*10^-5\n",
    "Density = Density of the solution was calculated using the previous formula. (kg/m^3)\n",
    "Viscosity =  Solution Viscosity (cp) \n",
    "Q = Variable from data.   Flow rate (m^3/s)\n",
    "I =  Current in A.\n",
    "```\n",
    "Values for k where not listed in the article, we had to try an approximate it using another article:\n",
    "```\n",
    "https://www.researchgate.net/figure/The-evaporation-rate-of-PVDF-DMF-solutions-as-function-of-temperature-a-and-of_fig6_243894369\n",
    "\n",
    "```\n",
    "Values for density and viscosity where found from the PAN_MODEL_ARTICLE submitted with this code. Values for the ratio of Q/I had to be approximated when doing sensitivity because these where not given.\n",
    "\n",
    "\n",
    "\n"
   ]
  },
  {
   "cell_type": "code",
   "execution_count": 40,
   "metadata": {},
   "outputs": [
    {
     "data": {
      "application/vnd.jupyter.widget-view+json": {
       "model_id": "ce3aa315c7f6484dac84450e278bbfaf",
       "version_major": 2,
       "version_minor": 0
      },
      "text/plain": [
       "interactive(children=(FloatSlider(value=5e-06, description='k', max=0.1, min=1e-06, step=1e-05), FloatSlider(v…"
      ]
     },
     "metadata": {},
     "output_type": "display_data"
    }
   ],
   "source": [
    "# Creating the necessary interactive widgets bounded by the limits determined by the Volume fraction tested in \n",
    "# \" Electrospinning of Polyacrylonitrile Solutions at Elevated Temperatures\" paper\n",
    "@interact(density=widgets.FloatSlider(value=957.2, min= 956., max=972.8, step=1), \n",
    "          k=widgets.FloatSlider(value=0.5e-5, min=0.1e-5, max=0.1, step=1e-5), \n",
    "          viscosity=widgets.FloatSlider(value=49e-3, min=47e-3, max=2753e-3, step=1e-5), \n",
    "          QI=widgets.FloatSlider(value=1e-8, min=1e-8, max=1e-2, step=1e-6))\n",
    "\n",
    "def radius(k, density, viscosity, QI):\n",
    "    \n",
    "    '''Returns the radius as a function of the specified parameters'''\n",
    "    r = ((k * density * viscosity)**(1/3)) * (QI**(2/3))\n",
    "    \n",
    "    return print(\"The radius is {} m\".format(r))\n"
   ]
  },
  {
   "cell_type": "markdown",
   "metadata": {},
   "source": [
    "$$viscosity(T) = viscosity(T_0)\\times e^{ \\frac{\\Delta E}{R}\\times (\\frac{1}{T} - \\frac{1}{T_0})}$$ \n",
    "\n",
    "The equation is taken from the Electroppining_Fiber_Diameter_Model, which was submitted with this notebook.\n",
    "```\n",
    "viscosity(T_0) = Reference solution viscosity at a known temperature (cp)\n",
    "Viscosity =  Solution Viscosity at desired temperature (cp) \n",
    "Q = Variable from data.   Flow rate (m^3/s)\n",
    "I = Found as 1144 kg/m^3. # Current in A\n",
    "E = Activation Energy (J/mol)\n",
    "T = Actual temperature (K)\n",
    "T_0 = 298 . #Reference temperature (k)\n",
    "```\n",
    "Values for Activation Energy, Reference Temperature and Reference Viscosity where found and approximated from PAN_MODEL_ARTICLE.\n"
   ]
  },
  {
   "cell_type": "code",
   "execution_count": 50,
   "metadata": {},
   "outputs": [
    {
     "data": {
      "application/vnd.jupyter.widget-view+json": {
       "model_id": "d6d527ca28f845b0b8c5c95ded4ef92f",
       "version_major": 2,
       "version_minor": 0
      },
      "text/plain": [
       "interactive(children=(FloatSlider(value=5e-06, description='k', max=0.1, min=1e-06, step=1e-05), FloatSlider(v…"
      ]
     },
     "metadata": {},
     "output_type": "display_data"
    }
   ],
   "source": [
    "@interact(density=widgets.FloatSlider(value=957.2, min= 956., max=972.8, step=1), \n",
    "          k=widgets.FloatSlider(value=0.5e-5, min=0.1e-5, max=0.1, step=1e-5), \n",
    "          viscosity=widgets.FloatSlider(value=49e-3, min=47e-3, max=2753e-3, step=1e-5), \n",
    "          QI=widgets.FloatSlider(value=1e-8, min=1e-8, max=1e-2, step=1e-6),\n",
    "          T=widgets.FloatSlider(value=298., min=298., max=373., step=1),\n",
    "          E=widgets.FloatSlider(value=15.1e3, min=15.1e3, max=27.9e3, step=100))\n",
    "\n",
    "def radius_T(k, density, viscosity, QI,E,T):\n",
    "    viscosity_0=47e-3 \n",
    "    R= 8.314 ## J/mol\n",
    "    T_0=298 ##K \n",
    "    viscosity=viscosity_0*np.exp((E/R)*((1/T)-(1/T_0)))\n",
    "    rf= ((k * density * viscosity)**(1/3)) * (QI**(2/3))\n",
    "    \n",
    "    return print(\"The radius is {} m\".format(rf))\n"
   ]
  },
  {
   "cell_type": "markdown",
   "metadata": {},
   "source": [
    "# Morris Method Attempt"
   ]
  },
  {
   "cell_type": "code",
   "execution_count": 51,
   "metadata": {},
   "outputs": [
    {
     "data": {
      "text/plain": [
       "'1.1.3'"
      ]
     },
     "execution_count": 51,
     "metadata": {},
     "output_type": "execute_result"
    }
   ],
   "source": [
    "# Importing the neccesary libraries to perform The Morris Method.\n",
    "import SALib\n",
    "SALib.__version__"
   ]
  },
  {
   "cell_type": "code",
   "execution_count": 52,
   "metadata": {},
   "outputs": [],
   "source": [
    "from SALib.sample import morris as ms\n",
    "from SALib.analyze import morris as ma\n",
    "from SALib.plotting import morris as mp"
   ]
  },
  {
   "cell_type": "code",
   "execution_count": 53,
   "metadata": {},
   "outputs": [],
   "source": [
    "# Defining the Morris Problem\n",
    "morris_problem = {\n",
    "    # There are six variables\n",
    "    'num_vars': 6,\n",
    "    # These are their names\n",
    "    'names': ['k', 'density', 'viscosity', 'QI', 'E', 'T'],\n",
    "    # These are their plausible ranges over which we'll move the variables\n",
    "    'bounds': [[0.1e-5, 0.1], \n",
    "               [944., 1184.],\n",
    "               [47e-3, 2753e-3], \n",
    "               [1e-8, 1e-2], \n",
    "               [15.1e3, 27.9e3], \n",
    "               [298,373] \n",
    "               \n",
    "              ],\n",
    "    # I don't want to group any of these variables together\n",
    "    'groups': None\n",
    "    }"
   ]
  },
  {
   "cell_type": "code",
   "execution_count": 54,
   "metadata": {},
   "outputs": [
    {
     "data": {
      "text/plain": [
       "(70000, 6)"
      ]
     },
     "execution_count": 54,
     "metadata": {},
     "output_type": "execute_result"
    }
   ],
   "source": [
    "num_levels = 4\n",
    "grid_jump = 2\n",
    "trajectories = int(1e4)\n",
    "sample = ms.sample(morris_problem, trajectories, num_levels, grid_jump)\n",
    "sample.shape"
   ]
  },
  {
   "cell_type": "code",
   "execution_count": 55,
   "metadata": {},
   "outputs": [],
   "source": [
    "def r_array(k, density, viscosity, QI,E,T):\n",
    "    viscosity_0=47e-3 \n",
    "    R= 8.314 ## J/mol\n",
    "    T_0=298 ##K \n",
    "    viscosity=viscosity_0*np.exp((E/R)*((1/T)-(1/T_0)))\n",
    "    rf= ((k * density * viscosity)**(1/3)) * (QI**(2/3))\n",
    "    \n",
    "    return np.array([rf])\n"
   ]
  },
  {
   "cell_type": "code",
   "execution_count": 56,
   "metadata": {},
   "outputs": [
    {
     "name": "stdout",
     "output_type": "stream",
     "text": [
      "(6, 70000)\n",
      "[[1.00000000e-06 1.00000000e-06 1.00000000e-06 ... 3.33340000e-02\n",
      "  3.33340000e-02 3.33340000e-02]\n",
      " [1.10400000e+03 1.10400000e+03 9.44000000e+02 ... 1.02400000e+03\n",
      "  1.02400000e+03 1.02400000e+03]\n",
      " [1.85100000e+00 1.85100000e+00 1.85100000e+00 ... 2.75300000e+00\n",
      "  2.75300000e+00 2.75300000e+00]\n",
      " [6.66667000e-03 6.66667000e-03 6.66667000e-03 ... 1.00000000e-02\n",
      "  1.00000000e-02 1.00000000e-02]\n",
      " [2.79000000e+04 1.93666667e+04 1.93666667e+04 ... 2.36333333e+04\n",
      "  1.51000000e+04 1.51000000e+04]\n",
      " [3.23000000e+02 3.23000000e+02 3.23000000e+02 ... 3.23000000e+02\n",
      "  3.23000000e+02 3.73000000e+02]]\n"
     ]
    }
   ],
   "source": [
    "print(sample.T.shape)\n",
    "print(sample.T)"
   ]
  },
  {
   "cell_type": "code",
   "execution_count": 57,
   "metadata": {},
   "outputs": [
    {
     "name": "stdout",
     "output_type": "stream",
     "text": [
      "(1, 70000)\n",
      "[[0.00098806 0.00107988 0.00102497 ... 0.04248292 0.04643078 0.03611519]]\n"
     ]
    }
   ],
   "source": [
    "# Run the sample through the power model\n",
    "output = r_array(*sample.T)\n",
    "print(output.shape)\n",
    "print(output)"
   ]
  },
  {
   "cell_type": "code",
   "execution_count": 58,
   "metadata": {},
   "outputs": [
    {
     "name": "stdout",
     "output_type": "stream",
     "text": [
      "Name                      mu mu_star   sigma\n",
      "k                       0.03    0.03    0.03\n",
      "density                 0.00    0.00    0.00\n",
      "viscosity               0.00    0.00    0.00\n",
      "QI                      0.04    0.04    0.03\n",
      "E                    -  0.00    0.00    0.00\n",
      "T                    -  0.01    0.01    0.01\n"
     ]
    }
   ],
   "source": [
    "# Store the results for plotting of the analysis\n",
    "Si = ma.analyze(morris_problem, \n",
    "                sample, \n",
    "                output, \n",
    "                print_to_console=False, \n",
    "                grid_jump=grid_jump, \n",
    "                num_levels=num_levels)\n",
    "print(\"{:20s} {:>7s} {:>7s} {:>7s}\".format(\"Name\", \"mu\", \"mu_star\", \"sigma\"))\n",
    "for name, s1, st, mean in zip(morris_problem['names'], Si['mu'], Si['mu_star'], Si['sigma']):\n",
    "    print(\"{:20s} {:=7.2f} {:=7.2f} {:=7.2f}\".format(name, s1, st, mean))"
   ]
  },
  {
   "cell_type": "code",
   "execution_count": 59,
   "metadata": {},
   "outputs": [
    {
     "data": {
      "text/plain": [
       "<matplotlib.collections.PathCollection at 0x1a272184a8>"
      ]
     },
     "execution_count": 59,
     "metadata": {},
     "output_type": "execute_result"
    },
    {
     "data": {
      "image/png": "[encoded data removed]",
      "text/plain": [
       "<Figure size 864x720 with 2 Axes>"
      ]
     },
     "metadata": {},
     "output_type": "display_data"
    }
   ],
   "source": [
    "fig, (ax1, ax2) = plt.subplots(1,2)\n",
    "mp.horizontal_bar_plot(ax1, Si, param_dict={})\n",
    "mp.covariance_plot(ax2, Si, {})"
   ]
  },
  {
   "cell_type": "markdown",
   "metadata": {
    "collapsed": true
   },
   "source": [
    "# MIT Zoom Model Equation Sensitivity Analysis"
   ]
  },
  {
   "cell_type": "markdown",
   "metadata": {},
   "source": [
    "* Here we try to study the effect of Surface Tension, Volume Fraction of the polymer and the ratio of Q/I (Where Q   is flowrate and I is Current) in the expected radius diameter.\n",
    "    * Data of Q/I was not listed in any of the around 10 papers used. We had to play with the sliders to determine       this ratio and give a value in the same order of magnitude as the expected radius.\n",
    "    * The volume fraction was determined considering we had an ideal solution,  in other words, the thermodynamic       effects had to be ignored considering the interaction parameter needed to Apply Flory-Huggins Theory was not       there, as well as either the solution volume fraction or the polymer volume fraction. Too many variables to       solve for. \n",
    "    \n",
    "\n"
   ]
  },
  {
   "cell_type": "code",
   "execution_count": 61,
   "metadata": {},
   "outputs": [
    {
     "data": {
      "application/vnd.jupyter.widget-view+json": {
       "model_id": "d90791f50e914e41977a1b146edb5637",
       "version_major": 2,
       "version_minor": 0
      },
      "text/plain": [
       "interactive(children=(FloatSlider(value=36.3, description='SurfaceTension', min=1.0, step=1.0), FloatSlider(va…"
      ]
     },
     "metadata": {},
     "output_type": "display_data"
    }
   ],
   "source": [
    "@interact(SurfaceTension=widgets.FloatSlider(value=36.3, min= 1., max=100., step=1), \n",
    "          vfrac=widgets.FloatSlider(value=.05, min=0.01, max=0.99, step=1e-2), \n",
    "          QI=widgets.FloatSlider(value=1e-8, min=1e-8, max=1e-2, step=1e-6))\n",
    "\n",
    "def radius(SurfaceTension, vfrac, QI):\n",
    "    r = ((SurfaceTension**(1/3)) * (QI**(2/3)) *  vfrac**(1/2))/2\n",
    "   \n",
    "    return print(\"The radius is {} m\".format(r))"
   ]
  },
  {
   "cell_type": "markdown",
   "metadata": {},
   "source": [
    "# Morris Analysis Attempt"
   ]
  },
  {
   "cell_type": "code",
   "execution_count": 62,
   "metadata": {},
   "outputs": [],
   "source": [
    "morris_problem_2 = {\n",
    "    # There are 3 variables\n",
    "    'num_vars': 3,\n",
    "    # These are their names\n",
    "    'names': ['SurfaceTension', 'vfrac', 'QI'],\n",
    "    # These are their plausible ranges over which we'll move the variables\n",
    "    'bounds': [[1, 100], \n",
    "               [.01, .9],\n",
    "               [1e-8, 1e-2], \n",
    "              ],\n",
    "    # I don't want to group any of these variables together\n",
    "    'groups': None\n",
    "    }"
   ]
  },
  {
   "cell_type": "code",
   "execution_count": 63,
   "metadata": {},
   "outputs": [
    {
     "data": {
      "text/plain": [
       "(40000, 3)"
      ]
     },
     "execution_count": 63,
     "metadata": {},
     "output_type": "execute_result"
    }
   ],
   "source": [
    "num_levels = 4\n",
    "grid_jump = 2\n",
    "trajectories = int(1e4)\n",
    "sample_2 = ms.sample(morris_problem_2, trajectories, num_levels, grid_jump)\n",
    "sample_2.shape"
   ]
  },
  {
   "cell_type": "markdown",
   "metadata": {},
   "source": [
    "$$Radius = \\frac{𝜸^{\\frac{1}{3}}\\times(\\frac{Q}{I})^\\frac{2}{3} \\times v_p^\\frac{1}{2}}{2}$$\n",
    "\n",
    "\n",
    "The equation is taken from the Electroppining_Fiber_Diameter_Model, which was submitted with this notebook.\n",
    "```\n",
    "Radius = Radius of the fiber (nm)\n",
    "𝜸 = Surface Tension (dyn/cm)\n",
    "v_p = volume fraction of the polymer. \n",
    "Q = Variable from data (not given). Flow rate (m^3/s)\n",
    "I =  Variable from data (not given). Current in A.\n",
    "```\n",
    "𝜸 ranges were chosen centered at 36.3 (dyn/cm) since the theorethical data from the PAN_MODEL_ARTICLE where measured at constant surface tension. \n",
    "\n",
    "Equations syntax (latex) found in examples from class and also:\n",
    "\n",
    "```\n",
    "   https://www.authorea.com/users/77723/articles/110898-how-to-write-mathematical-equations-expressions-and- symbols-with-latex-a-cheatsheet\n",
    "\n",
    "```\n"
   ]
  },
  {
   "cell_type": "code",
   "execution_count": 64,
   "metadata": {},
   "outputs": [],
   "source": [
    "def r_array_2(SurfaceTension, vfrac, QI):\n",
    "    ''' Function that returns an array of the radius found using the zoom model equation'''\n",
    "    r2 = ((SurfaceTension**(1/3)) * (QI**(2/3)) *  vfrac**(1/2))/2\n",
    "   \n",
    "    return np.array([r2])"
   ]
  },
  {
   "cell_type": "code",
   "execution_count": 65,
   "metadata": {},
   "outputs": [
    {
     "name": "stdout",
     "output_type": "stream",
     "text": [
      "(3, 40000)\n",
      "[[1.00000000e+00 1.00000000e+00 6.70000000e+01 ... 1.00000000e+00\n",
      "  1.00000000e+00 6.70000000e+01]\n",
      " [3.06666667e-01 3.06666667e-01 3.06666667e-01 ... 3.06666667e-01\n",
      "  3.06666667e-01 3.06666667e-01]\n",
      " [1.00000000e-02 3.33334000e-03 3.33334000e-03 ... 1.00000000e-08\n",
      "  6.66667000e-03 6.66667000e-03]]\n"
     ]
    }
   ],
   "source": [
    "print(sample_2.T.shape)\n",
    "print(sample_2.T)"
   ]
  },
  {
   "cell_type": "code",
   "execution_count": 66,
   "metadata": {},
   "outputs": [
    {
     "name": "stdout",
     "output_type": "stream",
     "text": [
      "(1, 40000)\n",
      "[[1.28519775e-02 6.17859459e-03 2.50946591e-02 ... 1.28519775e-06\n",
      "  9.80789775e-03 3.98352485e-02]]\n"
     ]
    }
   ],
   "source": [
    "# Run the sample through the radius model\n",
    "output_2 = r_array_2(*sample_2.T)\n",
    "print(output_2.shape)\n",
    "print(output_2)"
   ]
  },
  {
   "cell_type": "code",
   "execution_count": 67,
   "metadata": {},
   "outputs": [
    {
     "name": "stdout",
     "output_type": "stream",
     "text": [
      "Name                      mu mu_star   sigma\n",
      "SurfaceTension          0.03    0.03    0.03\n",
      "vfrac                   0.03    0.03    0.03\n",
      "QI                      0.04    0.04    0.03\n"
     ]
    }
   ],
   "source": [
    "# Store the results for plotting of the analysis\n",
    "Si = ma.analyze(morris_problem_2, \n",
    "                sample_2, \n",
    "                output_2, \n",
    "                print_to_console=False, \n",
    "                grid_jump=grid_jump, \n",
    "                num_levels=num_levels)\n",
    "print(\"{:20s} {:>7s} {:>7s} {:>7s}\".format(\"Name\", \"mu\", \"mu_star\", \"sigma\"))\n",
    "for name, s1, st, mean in zip(morris_problem_2['names'], Si['mu'], Si['mu_star'], Si['sigma']):\n",
    "    print(\"{:20s} {:=7.2f} {:=7.2f} {:=7.2f}\".format(name, s1, st, mean))"
   ]
  },
  {
   "cell_type": "code",
   "execution_count": 68,
   "metadata": {},
   "outputs": [
    {
     "data": {
      "text/plain": [
       "<matplotlib.collections.PathCollection at 0x1a27110e80>"
      ]
     },
     "execution_count": 68,
     "metadata": {},
     "output_type": "execute_result"
    },
    {
     "data": {
      "image/png": "[encoded data removed]",
      "text/plain": [
       "<Figure size 864x720 with 2 Axes>"
      ]
     },
     "metadata": {},
     "output_type": "display_data"
    }
   ],
   "source": [
    "fig, (ax1, ax2) = plt.subplots(1,2)\n",
    "mp.horizontal_bar_plot(ax1, Si, param_dict={})\n",
    "mp.covariance_plot(ax2, Si, {})"
   ]
  },
  {
   "cell_type": "code",
   "execution_count": null,
   "metadata": {},
   "outputs": [],
   "source": []
  },
  {
   "cell_type": "code",
   "execution_count": null,
   "metadata": {},
   "outputs": [],
   "source": []
  }
 ],
 "metadata": {
  "kernelspec": {
   "display_name": "Python 3",
   "language": "python",
   "name": "python3"
  },
  "language_info": {
   "codemirror_mode": {
    "name": "ipython",
    "version": 3
   },
   "file_extension": ".py",
   "mimetype": "text/x-python",
   "name": "python",
   "nbconvert_exporter": "python",
   "pygments_lexer": "ipython3",
   "version": "3.6.5"
  }
 },
 "nbformat": 4,
 "nbformat_minor": 2
}
